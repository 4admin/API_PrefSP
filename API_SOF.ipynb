{
 "cells": [
  {
   "cell_type": "code",
   "execution_count": null,
   "metadata": {},
   "outputs": [],
   "source": [
    "import requests\n",
    "from requests.auth import HTTPBasicAuth\n",
    "from keysof import chaves\n",
    "\n",
    "url = \"https://gateway.apilib.prefeitura.sp.gov.br/token\"\n",
    "\n",
    "data = {\n",
    "    \"grant_type\": \"client_credentials\"\n",
    "}\n",
    "\n",
    "client_id = chaves.get('client_id_')\n",
    "client_secret = chaves.get('client_secret_')\n",
    "\n",
    "\n",
    "response = requests.post(\n",
    "    url,\n",
    "    data=data,\n",
    "    auth=HTTPBasicAuth(client_id, client_secret),\n",
    "    verify=False\n",
    ")\n",
    "\n",
    "acess_token = response.json()['access_token']\n",
    "\n",
    "response"
   ]
  },
  {
   "cell_type": "code",
   "execution_count": null,
   "metadata": {},
   "outputs": [],
   "source": [
    "chaves.get('client_secret_')"
   ]
  },
  {
   "cell_type": "code",
   "execution_count": null,
   "metadata": {},
   "outputs": [],
   "source": [
    "endpoint = \"https://gateway.apilib.prefeitura.sp.gov.br/sf/sof/v4/elementos\"\n",
    "\n",
    "params = {\n",
    "    'anoExercicio': 2023\n",
    "}\n",
    "\n",
    "headers = {\n",
    "    \"accept\": \"application/json\",\n",
    "    \"Authorization\": f\"Bearer {acess_token}\"\n",
    "}\n",
    "\n",
    "response = requests.get(endpoint, headers=headers, params=params)\n",
    "\n",
    "response.json()"
   ]
  }
 ],
 "metadata": {
  "kernelspec": {
   "display_name": "venv",
   "language": "python",
   "name": "python3"
  },
  "language_info": {
   "codemirror_mode": {
    "name": "ipython",
    "version": 3
   },
   "file_extension": ".py",
   "mimetype": "text/x-python",
   "name": "python",
   "nbconvert_exporter": "python",
   "pygments_lexer": "ipython3",
   "version": "3.11.9"
  }
 },
 "nbformat": 4,
 "nbformat_minor": 2
}
