{
 "cells": [
  {
   "cell_type": "code",
   "execution_count": null,
   "metadata": {},
   "outputs": [],
   "source": [
    "import requests\n",
    "from requests.auth import HTTPBasicAuth\n",
    "from keysof import chaves\n",
    "from proxyconfig import proxies\n",
    "\n",
    "url = \"https://gateway.apilib.prefeitura.sp.gov.br/token\"\n",
    "\n",
    "data = {\n",
    "    \"grant_type\": \"client_credentials\"\n",
    "}\n",
    "\n",
    "client_id = chaves.get('client_id_')\n",
    "client_secret = chaves.get('client_secret_')\n",
    "\n",
    "\n",
    "response = requests.post(\n",
    "    url,\n",
    "    data=data,\n",
    "    auth=HTTPBasicAuth(client_id, client_secret),\n",
    "    verify=False,\n",
    "    proxies=proxies\n",
    ")\n",
    "\n",
    "acess_token = response.json()['access_token']\n",
    "\n",
    "response"
   ]
  },
  {
   "cell_type": "code",
   "execution_count": null,
   "metadata": {},
   "outputs": [],
   "source": [
    "endpoint = \"https://gateway.apilib.prefeitura.sp.gov.br/sg/dom/v1/Licitacao\"\n",
    "\n",
    "params = {\n",
    "    'dataPublicacao': '2025-01-08',\n",
    "    'caderno': '11'\n",
    "}\n",
    "\n",
    "headers = {\n",
    "    \"accept\": \"application/json\",\n",
    "    \"Authorization\": f\"Bearer {acess_token}\"\n",
    "}\n",
    "\n",
    "response = requests.get(endpoint, headers=headers, params=params, proxies=proxies)\n",
    "\n",
    "response.json()"
   ]
  }
 ],
 "metadata": {
  "kernelspec": {
   "display_name": "venv",
   "language": "python",
   "name": "python3"
  },
  "language_info": {
   "codemirror_mode": {
    "name": "ipython",
    "version": 3
   },
   "file_extension": ".py",
   "mimetype": "text/x-python",
   "name": "python",
   "nbconvert_exporter": "python",
   "pygments_lexer": "ipython3",
   "version": "3.11.9"
  }
 },
 "nbformat": 4,
 "nbformat_minor": 2
}
